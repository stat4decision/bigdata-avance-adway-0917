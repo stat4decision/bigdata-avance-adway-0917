{
 "cells": [
  {
   "cell_type": "markdown",
   "metadata": {},
   "source": [
    "# RAPPELS PYTHON"
   ]
  },
  {
   "cell_type": "markdown",
   "metadata": {},
   "source": [
    "Python se base sur des objets<br>\n",
    "On définit des variables en python, définir 4 variables de type int / float / bool et str<br>\n",
    "Afficher ces variables et leur type"
   ]
  },
  {
   "cell_type": "code",
   "execution_count": 5,
   "metadata": {
    "collapsed": false
   },
   "outputs": [],
   "source": [
    "entier1=5\n",
    "float1=4.5\n",
    "chaine1=\"AdWay\"\n",
    "bool1=True"
   ]
  },
  {
   "cell_type": "code",
   "execution_count": 9,
   "metadata": {
    "collapsed": false
   },
   "outputs": [
    {
     "name": "stdout",
     "output_type": "stream",
     "text": [
      "5 4.5 AdWay True\n"
     ]
    }
   ],
   "source": [
    "print(entier1,float1,chaine1,bool1)"
   ]
  },
  {
   "cell_type": "code",
   "execution_count": 7,
   "metadata": {
    "collapsed": false,
    "scrolled": true
   },
   "outputs": [
    {
     "name": "stdout",
     "output_type": "stream",
     "text": [
      "<class 'int'> <class 'float'> <class 'str'> <class 'bool'>\n"
     ]
    }
   ],
   "source": [
    "print(type(entier1),type(float1),type(chaine1),type(bool1))"
   ]
  },
  {
   "cell_type": "markdown",
   "metadata": {},
   "source": [
    "Créez une fonction avec un booléen en entrée qui affiche une valeur différente en fonction du booléen entré.<br>\n",
    "On définit une fonction avec le mot-clé def (attention à l'indentation)"
   ]
  },
  {
   "cell_type": "code",
   "execution_count": 10,
   "metadata": {
    "collapsed": true
   },
   "outputs": [],
   "source": [
    "def ma_fonction(bool1):\n",
    "    if bool1==True:\n",
    "        print(\"C'est vrai !\")\n",
    "    else:\n",
    "        print(\"C'est pas vrai !\")\n",
    "    print(\"Bravo !\")"
   ]
  },
  {
   "cell_type": "code",
   "execution_count": 12,
   "metadata": {
    "collapsed": false
   },
   "outputs": [
    {
     "name": "stdout",
     "output_type": "stream",
     "text": [
      "C'est pas vrai !\n",
      "Bravo !\n"
     ]
    }
   ],
   "source": [
    "ma_fonction(False)"
   ]
  },
  {
   "cell_type": "code",
   "execution_count": 16,
   "metadata": {
    "collapsed": false
   },
   "outputs": [
    {
     "name": "stdout",
     "output_type": "stream",
     "text": [
      "Variable      Type        Data/Info\n",
      "-----------------------------------\n",
      "chaine1       str         AdWay\n",
      "entier1       int         5\n",
      "float1        float       4.5\n",
      "ma_fonction   function    <function ma_fonction at 0x0000027710EB08C8>\n"
     ]
    }
   ],
   "source": [
    "#afficher toutes les variables de mon environnement python (chargées en mémoire)\n",
    "%whos"
   ]
  },
  {
   "cell_type": "code",
   "execution_count": 15,
   "metadata": {
    "collapsed": true
   },
   "outputs": [],
   "source": [
    "#effacter bool1 de la mémoire afin de libérer de l'espace\n",
    "del bool1"
   ]
  },
  {
   "cell_type": "markdown",
   "metadata": {
    "collapsed": false
   },
   "source": [
    "Créez une boucle for qui parcourt un range de 0 à 5 et qui ajoute 1 à une variable à chaque boucle<br>\n",
    "On utilisera for ... in ... : et la fonction range()"
   ]
  },
  {
   "cell_type": "code",
   "execution_count": 24,
   "metadata": {
    "collapsed": false
   },
   "outputs": [
    {
     "name": "stdout",
     "output_type": "stream",
     "text": [
      "0\n",
      "1\n",
      "2\n",
      "3\n",
      "4\n",
      "5\n",
      "val= 6\n"
     ]
    }
   ],
   "source": [
    "val=0\n",
    "for i in range(6):\n",
    "    print(i)\n",
    "    val+=1\n",
    "print(\"val=\",val)"
   ]
  },
  {
   "cell_type": "markdown",
   "metadata": {
    "collapsed": false
   },
   "source": [
    "Créez une liste composée de 5 éléments, affichez la longueur de la liste.<br>\n",
    "On utilise [] pour les listes"
   ]
  },
  {
   "cell_type": "code",
   "execution_count": 25,
   "metadata": {
    "collapsed": false
   },
   "outputs": [],
   "source": [
    "list1=[22,\"AdWay\",entier1,55,33]"
   ]
  },
  {
   "cell_type": "code",
   "execution_count": 31,
   "metadata": {
    "collapsed": false
   },
   "outputs": [
    {
     "data": {
      "text/plain": [
       "[22, 'AdWay']"
      ]
     },
     "execution_count": 31,
     "metadata": {},
     "output_type": "execute_result"
    }
   ],
   "source": [
    "#extraire les 2 premiers éléments\n",
    "list1[:2]"
   ]
  },
  {
   "cell_type": "code",
   "execution_count": 33,
   "metadata": {
    "collapsed": false
   },
   "outputs": [],
   "source": [
    "list2=list1[-3:]"
   ]
  },
  {
   "cell_type": "markdown",
   "metadata": {
    "collapsed": false
   },
   "source": [
    "Ajoutez un ou plusieurs éléments à la liste<br>\n",
    "On peut utiliser +, .append()..."
   ]
  },
  {
   "cell_type": "code",
   "execution_count": 35,
   "metadata": {
    "collapsed": false
   },
   "outputs": [],
   "source": [
    "list1=list1+list2"
   ]
  },
  {
   "cell_type": "code",
   "execution_count": 36,
   "metadata": {
    "collapsed": false
   },
   "outputs": [
    {
     "name": "stdout",
     "output_type": "stream",
     "text": [
      "[22, 'AdWay', 5, 55, 33, 5, 55, 33]\n"
     ]
    }
   ],
   "source": [
    "print(list1)"
   ]
  },
  {
   "cell_type": "code",
   "execution_count": 37,
   "metadata": {
    "collapsed": true
   },
   "outputs": [],
   "source": [
    "list1.append(\"youpi\")"
   ]
  },
  {
   "cell_type": "code",
   "execution_count": 38,
   "metadata": {
    "collapsed": false
   },
   "outputs": [
    {
     "data": {
      "text/plain": [
       "[22, 'AdWay', 5, 55, 33, 5, 55, 33, 'youpi']"
      ]
     },
     "execution_count": 38,
     "metadata": {},
     "output_type": "execute_result"
    }
   ],
   "source": [
    "list1"
   ]
  },
  {
   "cell_type": "markdown",
   "metadata": {},
   "source": [
    "Créez une fonction qui prend en entrée une liste d'entiers et qui renvoie deux listes, une avec les nombres paires et l'autre avec les nombre impaires<br>\n",
    "On pourra utiliser le modulo et si possible les listes de compréhension\n",
    "                                                                                            "
   ]
  },
  {
   "cell_type": "code",
   "execution_count": 57,
   "metadata": {
    "collapsed": false
   },
   "outputs": [],
   "source": [
    "def separation_paires(list1):\n",
    "    paires=[]\n",
    "    impaires=[]\n",
    "    for nombre in list1:\n",
    "        if nombre % 2==0:\n",
    "            paires.append(nombre)\n",
    "        elif nombre%2==1:\n",
    "            impaires.append(nombre)\n",
    "    return paires, impaires"
   ]
  },
  {
   "cell_type": "code",
   "execution_count": 58,
   "metadata": {
    "collapsed": false
   },
   "outputs": [],
   "source": [
    "list_paires, list_impaires = separation_paires([2,5,7,5,2.5])"
   ]
  },
  {
   "cell_type": "code",
   "execution_count": 59,
   "metadata": {
    "collapsed": false
   },
   "outputs": [
    {
     "name": "stdout",
     "output_type": "stream",
     "text": [
      "[5, 7, 5]\n"
     ]
    }
   ],
   "source": [
    "print(list_impaires)"
   ]
  },
  {
   "cell_type": "code",
   "execution_count": 46,
   "metadata": {
    "collapsed": true
   },
   "outputs": [],
   "source": [
    "def separation_paires2(list1):\n",
    "    paires=[nombre for nombre in list1 if nombre%2==0]\n",
    "    impaires=[nombre for nombre in list1 if nombre%2==1]\n",
    "    return paires, impaires"
   ]
  },
  {
   "cell_type": "code",
   "execution_count": 53,
   "metadata": {
    "collapsed": false
   },
   "outputs": [
    {
     "data": {
      "text/plain": [
       "([2], [5, 7, 5])"
      ]
     },
     "execution_count": 53,
     "metadata": {},
     "output_type": "execute_result"
    }
   ],
   "source": [
    "separation_paires2([2,5,7,5,2.5])"
   ]
  }
 ],
 "metadata": {
  "kernelspec": {
   "display_name": "Python 3",
   "language": "python",
   "name": "python3"
  },
  "language_info": {
   "codemirror_mode": {
    "name": "ipython",
    "version": 3
   },
   "file_extension": ".py",
   "mimetype": "text/x-python",
   "name": "python",
   "nbconvert_exporter": "python",
   "pygments_lexer": "ipython3",
   "version": "3.6.1"
  }
 },
 "nbformat": 4,
 "nbformat_minor": 0
}
